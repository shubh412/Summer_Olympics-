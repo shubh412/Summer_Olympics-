{
 "cells": [
  {
   "cell_type": "code",
   "execution_count": 1,
   "id": "00b14848",
   "metadata": {},
   "outputs": [],
   "source": [
    "import pandas as pd\n",
    "import numpy as np\n",
    "\n"
   ]
  },
  {
   "cell_type": "code",
   "execution_count": 2,
   "id": "c4aecb8a",
   "metadata": {},
   "outputs": [],
   "source": [
    "df = pd.read_csv(r\"C:\\Users\\Shubh\\Documents\\summer.csv\",encoding = 'latin1')"
   ]
  },
  {
   "cell_type": "code",
   "execution_count": 3,
   "id": "96eaedb9",
   "metadata": {},
   "outputs": [
    {
     "data": {
      "text/html": [
       "<div>\n",
       "<style scoped>\n",
       "    .dataframe tbody tr th:only-of-type {\n",
       "        vertical-align: middle;\n",
       "    }\n",
       "\n",
       "    .dataframe tbody tr th {\n",
       "        vertical-align: top;\n",
       "    }\n",
       "\n",
       "    .dataframe thead th {\n",
       "        text-align: right;\n",
       "    }\n",
       "</style>\n",
       "<table border=\"1\" class=\"dataframe\">\n",
       "  <thead>\n",
       "    <tr style=\"text-align: right;\">\n",
       "      <th></th>\n",
       "      <th>Year</th>\n",
       "      <th>City</th>\n",
       "      <th>Sport</th>\n",
       "      <th>Discipline</th>\n",
       "      <th>Athlete</th>\n",
       "      <th>Country</th>\n",
       "      <th>Gender</th>\n",
       "      <th>Event</th>\n",
       "      <th>Medal</th>\n",
       "    </tr>\n",
       "  </thead>\n",
       "  <tbody>\n",
       "    <tr>\n",
       "      <th>0</th>\n",
       "      <td>1896</td>\n",
       "      <td>Athens</td>\n",
       "      <td>Aquatics</td>\n",
       "      <td>Swimming</td>\n",
       "      <td>HAJOS, Alfred</td>\n",
       "      <td>HUN</td>\n",
       "      <td>Men</td>\n",
       "      <td>100M Freestyle</td>\n",
       "      <td>Gold</td>\n",
       "    </tr>\n",
       "    <tr>\n",
       "      <th>1</th>\n",
       "      <td>1896</td>\n",
       "      <td>Athens</td>\n",
       "      <td>Aquatics</td>\n",
       "      <td>Swimming</td>\n",
       "      <td>HERSCHMANN, Otto</td>\n",
       "      <td>AUT</td>\n",
       "      <td>Men</td>\n",
       "      <td>100M Freestyle</td>\n",
       "      <td>Silver</td>\n",
       "    </tr>\n",
       "    <tr>\n",
       "      <th>2</th>\n",
       "      <td>1896</td>\n",
       "      <td>Athens</td>\n",
       "      <td>Aquatics</td>\n",
       "      <td>Swimming</td>\n",
       "      <td>DRIVAS, Dimitrios</td>\n",
       "      <td>GRE</td>\n",
       "      <td>Men</td>\n",
       "      <td>100M Freestyle For Sailors</td>\n",
       "      <td>Bronze</td>\n",
       "    </tr>\n",
       "    <tr>\n",
       "      <th>3</th>\n",
       "      <td>1896</td>\n",
       "      <td>Athens</td>\n",
       "      <td>Aquatics</td>\n",
       "      <td>Swimming</td>\n",
       "      <td>MALOKINIS, Ioannis</td>\n",
       "      <td>GRE</td>\n",
       "      <td>Men</td>\n",
       "      <td>100M Freestyle For Sailors</td>\n",
       "      <td>Gold</td>\n",
       "    </tr>\n",
       "    <tr>\n",
       "      <th>4</th>\n",
       "      <td>1896</td>\n",
       "      <td>Athens</td>\n",
       "      <td>Aquatics</td>\n",
       "      <td>Swimming</td>\n",
       "      <td>CHASAPIS, Spiridon</td>\n",
       "      <td>GRE</td>\n",
       "      <td>Men</td>\n",
       "      <td>100M Freestyle For Sailors</td>\n",
       "      <td>Silver</td>\n",
       "    </tr>\n",
       "  </tbody>\n",
       "</table>\n",
       "</div>"
      ],
      "text/plain": [
       "   Year    City     Sport Discipline             Athlete Country Gender  \\\n",
       "0  1896  Athens  Aquatics   Swimming       HAJOS, Alfred     HUN    Men   \n",
       "1  1896  Athens  Aquatics   Swimming    HERSCHMANN, Otto     AUT    Men   \n",
       "2  1896  Athens  Aquatics   Swimming   DRIVAS, Dimitrios     GRE    Men   \n",
       "3  1896  Athens  Aquatics   Swimming  MALOKINIS, Ioannis     GRE    Men   \n",
       "4  1896  Athens  Aquatics   Swimming  CHASAPIS, Spiridon     GRE    Men   \n",
       "\n",
       "                        Event   Medal  \n",
       "0              100M Freestyle    Gold  \n",
       "1              100M Freestyle  Silver  \n",
       "2  100M Freestyle For Sailors  Bronze  \n",
       "3  100M Freestyle For Sailors    Gold  \n",
       "4  100M Freestyle For Sailors  Silver  "
      ]
     },
     "execution_count": 3,
     "metadata": {},
     "output_type": "execute_result"
    }
   ],
   "source": [
    "df.head()"
   ]
  },
  {
   "cell_type": "markdown",
   "id": "1a7cf991",
   "metadata": {},
   "source": [
    "1. In how many cities Summer Olympics is held so far?"
   ]
  },
  {
   "cell_type": "code",
   "execution_count": 4,
   "id": "9d17d8e6",
   "metadata": {},
   "outputs": [
    {
     "data": {
      "text/plain": [
       "22"
      ]
     },
     "execution_count": 4,
     "metadata": {},
     "output_type": "execute_result"
    }
   ],
   "source": [
    "count = []\n",
    "len(df['City'].unique())"
   ]
  },
  {
   "cell_type": "markdown",
   "id": "9805fb6d",
   "metadata": {},
   "source": [
    "2. Which sport is having most number of Gold Medals so far?"
   ]
  },
  {
   "cell_type": "code",
   "execution_count": 7,
   "id": "fbc71716",
   "metadata": {},
   "outputs": [
    {
     "data": {
      "text/plain": [
       "<AxesSubplot:xlabel='Sport'>"
      ]
     },
     "execution_count": 7,
     "metadata": {},
     "output_type": "execute_result"
    },
    {
     "data": {
      "image/png": "[encoded data removed]",
      "text/plain": [
       "<Figure size 432x288 with 1 Axes>"
      ]
     },
     "metadata": {
      "needs_background": "light"
     },
     "output_type": "display_data"
    }
   ],
   "source": [
    "for sam in df['Sport'].unique():\n",
    "  pr = df[(df['Medal']=='Gold')]\n",
    "bl = []\n",
    "for sam in pr['Sport'].unique():\n",
    "  bl.append([, len(pr[pr['Sport']==sam])])\n",
    "bl = pd.DataFrame(bl, columns=['Sport', 'g-medal'])\n",
    "bl = bl.sort_values(by='g-medal', ascending=False,).head()\n",
    "bl.plot(x= 'Sport', y='g-medal', kind='bar', color='yellow')"
   ]
  },
  {
   "cell_type": "markdown",
   "id": "76616f8d",
   "metadata": {},
   "source": [
    "3. Which sport is having most number of medals so far?"
   ]
  },
  {
   "cell_type": "code",
   "execution_count": 8,
   "id": "fcbd0de2",
   "metadata": {},
   "outputs": [
    {
     "data": {
      "text/plain": [
       "Year          0\n",
       "City          0\n",
       "Sport         0\n",
       "Discipline    0\n",
       "Athlete       0\n",
       "Country       4\n",
       "Gender        0\n",
       "Event         0\n",
       "Medal         0\n",
       "dtype: int64"
      ]
     },
     "execution_count": 8,
     "metadata": {},
     "output_type": "execute_result"
    },
    {
     "data": {
      "image/png": "[encoded data removed]",
      "text/plain": [
       "<Figure size 432x288 with 1 Axes>"
      ]
     },
     "metadata": {
      "needs_background": "light"
     },
     "output_type": "display_data"
    }
   ],
   "source": [
    "a = [] #logically it implies the number of times the Sport columns has unique value and medal columns has 0 null values --> refer the nexte shell for prrof\n",
    "for sp in df['Sport'].unique():\n",
    "  a.append([sp,len(df[df['Sport']==sp])])\n",
    "a = pd.DataFrame(a, columns=['sport','medals'])\n",
    "a = a.sort_values(by='medals', ascending=False).head()\n",
    "a.plot(x= 'sport', y = 'medals', kind= 'bar', color= 'orange')\n",
    "\n",
    "df.isnull().sum()"
   ]
  },
  {
   "cell_type": "markdown",
   "id": "0ba24558",
   "metadata": {},
   "source": [
    "4. Which player has won most number of medals?"
   ]
  },
  {
   "cell_type": "code",
   "execution_count": 10,
   "id": "a70753dd",
   "metadata": {},
   "outputs": [
    {
     "data": {
      "text/plain": [
       "<AxesSubplot:xlabel='athlete'>"
      ]
     },
     "execution_count": 10,
     "metadata": {},
     "output_type": "execute_result"
    },
    {
     "data": {
      "image/png": "[encoded data removed]",
      "text/plain": [
       "<Figure size 720x360 with 1 Axes>"
      ]
     },
     "metadata": {
      "needs_background": "light"
     },
     "output_type": "display_data"
    }
   ],
   "source": [
    "#this also follows the number of times the repeataion of player in Athlete\n",
    "a = []\n",
    "for sam in df['Athlete'].unique():\n",
    "  a.append([sam, len(df[df['Athlete']==sam])])\n",
    "a = pd.DataFrame(a, columns=['athlete', 'medals'])\n",
    "a = a.sort_values(by='medals', ascending=False).head()\n",
    "a.plot(x= 'athlete', y='medals',kind='bar', color='red', figsize=(10,5))"
   ]
  },
  {
   "cell_type": "markdown",
   "id": "21a05f41",
   "metadata": {},
   "source": [
    "5. Which player has won most number Gold Medals of medals?"
   ]
  },
  {
   "cell_type": "code",
   "execution_count": 11,
   "id": "a9931cef",
   "metadata": {},
   "outputs": [
    {
     "data": {
      "text/plain": [
       "<AxesSubplot:xlabel='athlete'>"
      ]
     },
     "execution_count": 11,
     "metadata": {},
     "output_type": "execute_result"
    },
    {
     "data": {
      "image/png": "[encoded data removed]",
      "text/plain": [
       "<Figure size 720x360 with 1 Axes>"
      ]
     },
     "metadata": {
      "needs_background": "light"
     },
     "output_type": "display_data"
    }
   ],
   "source": [
    "a = []\n",
    "for sam in pr['Athlete'].unique():\n",
    "  a.append([sam, len(pr[pr['Athlete']==sam])])\n",
    "a = pd.DataFrame(a, columns=['athlete', 'g-medals'])\n",
    "a = a.sort_values(by='g-medals', ascending=False).head()\n",
    "a.plot(x= 'athlete', y='g-medals',kind='bar', color='purple', figsize=(10,5))"
   ]
  },
  {
   "cell_type": "markdown",
   "id": "645bc60e",
   "metadata": {},
   "source": [
    "6. In which year India won first Gold Medal in Summer Olympics?"
   ]
  },
  {
   "cell_type": "code",
   "execution_count": 15,
   "id": "843eaaf8",
   "metadata": {},
   "outputs": [
    {
     "name": "stdout",
     "output_type": "stream",
     "text": [
      "1928\n"
     ]
    }
   ],
   "source": [
    "for sam in pr.index:\n",
    "  if (pr.Country[sam]=='IND' and pr.Medal[sam]=='Gold'):\n",
    "    print(pr.Year[sam])\n",
    "    break"
   ]
  },
  {
   "cell_type": "markdown",
   "id": "4e5f3609",
   "metadata": {},
   "source": [
    "7. Which event is most popular in terms on number of players? "
   ]
  },
  {
   "cell_type": "code",
   "execution_count": 13,
   "id": "6004ac10",
   "metadata": {},
   "outputs": [
    {
     "data": {
      "text/plain": [
       "<AxesSubplot:xlabel='events'>"
      ]
     },
     "execution_count": 13,
     "metadata": {},
     "output_type": "execute_result"
    },
    {
     "data": {
      "image/png": "[encoded data removed]",
      "text/plain": [
       "<Figure size 720x360 with 1 Axes>"
      ]
     },
     "metadata": {
      "needs_background": "light"
     },
     "output_type": "display_data"
    }
   ],
   "source": [
    "a = []\n",
    "for sam in df['Event'].unique():\n",
    "  a.append([sam,len(df[df['Event']==sam])])\n",
    "a = pd.DataFrame(a, columns=['events','count'])\n",
    "a = a.sort_values(by='count', ascending=False).head()\n",
    "a.plot(x= 'events', y = 'count', kind= 'bar', color= 'blue', figsize=(10,5))"
   ]
  },
  {
   "cell_type": "markdown",
   "id": "fe7cba01",
   "metadata": {},
   "source": [
    "8. Which sport is having most female Gold Medalists? "
   ]
  },
  {
   "cell_type": "code",
   "execution_count": 14,
   "id": "0f5a3ff7",
   "metadata": {},
   "outputs": [
    {
     "data": {
      "text/plain": [
       "<AxesSubplot:xlabel='sport'>"
      ]
     },
     "execution_count": 14,
     "metadata": {},
     "output_type": "execute_result"
    },
    {
     "data": {
      "image/png": "[encoded data removed]",
      "text/plain": [
       "<Figure size 720x360 with 1 Axes>"
      ]
     },
     "metadata": {
      "needs_background": "light"
     },
     "output_type": "display_data"
    }
   ],
   "source": [
    "for sam in pr['Sport'].unique():\n",
    "  an = pr[pr['Gender']=='Women']\n",
    "b = []\n",
    "for sam in an['Sport'].unique():\n",
    "  b.append([sam, len(an[an['Sport']==sam])])\n",
    "b = pd.DataFrame(b, columns=['sport','g-medals'])\n",
    "b = b.sort_values(by='g-medals', ascending= False).head()\n",
    "b.plot(x= 'sport', y = 'g-medals',kind='bar', color='pink', figsize=(10,5))"
   ]
  },
  {
   "cell_type": "code",
   "execution_count": null,
   "id": "b99075fe",
   "metadata": {},
   "outputs": [],
   "source": []
  }
 ],
 "metadata": {
  "kernelspec": {
   "display_name": "Python 3",
   "language": "python",
   "name": "python3"
  },
  "language_info": {
   "codemirror_mode": {
    "name": "ipython",
    "version": 3
   },
   "file_extension": ".py",
   "mimetype": "text/x-python",
   "name": "python",
   "nbconvert_exporter": "python",
   "pygments_lexer": "ipython3",
   "version": "3.8.8"
  }
 },
 "nbformat": 4,
 "nbformat_minor": 5
}
